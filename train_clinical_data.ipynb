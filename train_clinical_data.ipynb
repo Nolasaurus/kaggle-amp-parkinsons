{
 "cells": [
  {
   "cell_type": "code",
   "execution_count": 1,
   "metadata": {},
   "outputs": [],
   "source": [
    "import pandas as pd\n",
    "\n",
    "prot_df = pd.read_csv('data/train_proteins.csv')\n",
    "clin_df = pd.read_csv('data/train_clinical_data.csv')\n",
    "clin_df = clin_df.rename(columns={'upd23b_clinical_state_on_medication': 'on_meds'})\n",
    "\n",
    "clin_df['on_meds'] = clin_df['on_meds'].fillna(0)\n",
    "clin_df['on_meds'] = clin_df['on_meds'].replace({'Off': 0, 'On': 1})"
   ]
  },
  {
   "cell_type": "code",
   "execution_count": 2,
   "metadata": {},
   "outputs": [],
   "source": [
    "import numpy as np\n",
    "\n",
    "pivoted = prot_df.pivot(index=\"visit_id\", columns=\"UniProt\", values=\"NPX\")\n",
    "\n",
    "# Normalize each column separately\n",
    "for col in pivoted.columns:\n",
    "    col_data = pivoted[col].dropna()\n",
    "    mean = col_data.mean()\n",
    "    std = col_data.std(ddof=1)\n",
    "    pivoted[col] = (pivoted[col] - mean) / std\n",
    "\n",
    "\n",
    "\n",
    "# Calculate mean and standard deviation of updrs_1 through updrs_4\n",
    "updrs_mean = clin_df[['updrs_1', 'updrs_2', 'updrs_3', 'updrs_4']].mean()\n",
    "updrs_std = clin_df[['updrs_1', 'updrs_2', 'updrs_3', 'updrs_4']].std()\n",
    "\n",
    "norm_clin_df = pd.DataFrame()\n",
    "# Normalize updrs_1 through updrs_4 and round to 3 sig figs\n",
    "norm_clin_df[['updrs_1', 'updrs_2', 'updrs_3', 'updrs_4']] = ((clin_df[['updrs_1', 'updrs_2', 'updrs_3', 'updrs_4']] - updrs_mean) / updrs_std).round(3)"
   ]
  },
  {
   "cell_type": "code",
   "execution_count": 11,
   "metadata": {},
   "outputs": [],
   "source": [
    "# Merge prot_df and clin_df on visit_id\n",
    "merged_df = pd.merge(clin_df, pivoted, on='visit_id')\n"
   ]
  },
  {
   "cell_type": "code",
   "execution_count": 19,
   "metadata": {},
   "outputs": [],
   "source": [
    "na_counts = merged_df.isna().sum(axis=0)"
   ]
  },
  {
   "cell_type": "code",
   "execution_count": 22,
   "metadata": {},
   "outputs": [
    {
     "name": "stdout",
     "output_type": "stream",
     "text": [
      "updrs_3     10\n",
      "updrs_4    499\n",
      "O00391     332\n",
      "O00533       1\n",
      "O00584      13\n",
      "          ... \n",
      "Q9UBX5      13\n",
      "Q9UKV8     198\n",
      "Q9UNU6     335\n",
      "Q9Y646      60\n",
      "Q9Y6R7      68\n",
      "Length: 202, dtype: int64\n"
     ]
    }
   ],
   "source": [
    "print(na_counts[na_counts>0])"
   ]
  },
  {
   "cell_type": "code",
   "execution_count": 6,
   "metadata": {},
   "outputs": [],
   "source": [
    "## interpolate instead ?\n",
    "for patient in merged_df.patient_id.unique():\n",
    "    # Select the patient dataset and make a copy\n",
    "    patient_data = merged_df[merged_df.patient_id == patient].copy()\n",
    "\n",
    "    # Fill the NaN values with forward fill, backward fill, and zero\n",
    "    patient_data.fillna(method='ffill', inplace=True)\n",
    "    patient_data.fillna(method='bfill', inplace=True)\n",
    "    patient_data.fillna(0, inplace=True)\n",
    "\n",
    "    merged_df[merged_df['patient_id']==patient] = patient_data"
   ]
  },
  {
   "cell_type": "code",
   "execution_count": null,
   "metadata": {},
   "outputs": [],
   "source": [
    "import amp_pd_peptide\n",
    "env = amp_pd_peptide.make_env()   # initialize the environment\n",
    "iter_test = env.iter_test()    # an iterator which loops over the test files\n",
    "for (test, test_peptides, test_proteins, sample_submission) in iter_test:\n",
    "    sample_prediction_df['rating'] = np.arange(len(sample_prediction))  # make your predictions here\n",
    "    env.predict(sample_prediction_df)   # register your predictions"
   ]
  }
 ],
 "metadata": {
  "kernelspec": {
   "display_name": "kaggle-amp",
   "language": "python",
   "name": "python3"
  },
  "language_info": {
   "codemirror_mode": {
    "name": "ipython",
    "version": 3
   },
   "file_extension": ".py",
   "mimetype": "text/x-python",
   "name": "python",
   "nbconvert_exporter": "python",
   "pygments_lexer": "ipython3",
   "version": "3.9.16"
  },
  "orig_nbformat": 4
 },
 "nbformat": 4,
 "nbformat_minor": 2
}
