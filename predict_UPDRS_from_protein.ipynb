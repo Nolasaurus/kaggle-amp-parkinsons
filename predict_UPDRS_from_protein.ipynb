{
 "cells": [
  {
   "cell_type": "code",
   "execution_count": null,
   "metadata": {},
   "outputs": [],
   "source": [
    "\n",
    "import pandas as pd\n",
    "\n",
    "clin_data = pd.read_csv('data/all_clinical_data_normalized.csv')\n",
    "clin_data = clin_data[['patient_id', 'visit_month', 'updrs_1', 'updrs_2', 'updrs_3', 'updrs_4']]"
   ]
  }
 ],
 "metadata": {
  "language_info": {
   "name": "python"
  },
  "orig_nbformat": 4
 },
 "nbformat": 4,
 "nbformat_minor": 2
}
