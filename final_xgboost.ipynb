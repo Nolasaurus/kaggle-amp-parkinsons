{
 "cells": [
  {
   "cell_type": "code",
   "execution_count": null,
   "metadata": {},
   "outputs": [],
   "source": [
    "from sklearn.model_selection import train_test_split, RandomizedSearchCV\n",
    "import xgboost as xgb\n",
    "import pandas as pd\n",
    "import numpy as np\n",
    "\n",
    "feature_columns = merged_df.columns[8:]\n",
    "target_columns = ['updrs_1', 'updrs_2', 'updrs_3', 'updrs_4']\n",
    "\n",
    "X = merged_df[feature_columns]\n",
    "\n",
    "params = {\n",
    "    'n_estimators': [500, 750, 1000],\n",
    "    'max_depth': [3, 4, 5, 6, 7],\n",
    "    'learning_rate': [0.075],\n",
    "    'reg_alpha': [5, 10, 15, 30],\n",
    "    'objective': ['reg:squarederror'],\n",
    "    'seed': [33]\n",
    "}\n",
    "\n",
    "# Create a DataFrame to store the best hyperparameters and scores for each target variable\n",
    "results_df = pd.DataFrame(columns=['target_variable', 'best_parameters', 'best_score'])\n",
    "\n",
    "for target_column in target_columns:\n",
    "    print(f\"Optimizing hyperparameters for {target_column}\")\n",
    "    y = merged_df[target_column]\n",
    "    X_train, X_test, y_train, y_test = train_test_split(X, y, test_size=0.2, random_state=33)\n",
    "\n",
    "    randomized_search = RandomizedSearchCV(estimator=xgb.XGBRegressor(), param_distributions=params, n_iter=20, cv=5, random_state=33)\n",
    "    randomized_search.fit(X_train, y_train)\n",
    "\n",
    "    print(f\"Best parameters for {target_column}: {randomized_search.best_params_}\")\n",
    "    print(f\"Best score for {target_column}: {randomized_search.best_score_}\\n\")\n",
    "    \n",
    "    # Append the results to the results_df DataFrame\n",
    "    new_row = {'target_variable': target_column,\n",
    "            'best_parameters': randomized_search.best_params_,\n",
    "            'best_score': randomized_search.best_score_}\n",
    "    results_df = pd.concat([results_df, pd.DataFrame([new_row])], ignore_index=True)\n",
    "\n",
    "\n",
    "# Save the results DataFrame to a CSV file\n",
    "results_df.to_csv('best_hyperparameters_scores_randomized.csv', index=False)\n"
   ]
  }
 ],
 "metadata": {
  "language_info": {
   "name": "python"
  },
  "orig_nbformat": 4
 },
 "nbformat": 4,
 "nbformat_minor": 2
}
