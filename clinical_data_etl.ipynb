{
 "cells": [
  {
   "cell_type": "code",
   "execution_count": 14,
   "metadata": {},
   "outputs": [
    {
     "name": "stdout",
     "output_type": "stream",
     "text": [
      "      visit_id  patient_id  visit_month  updrs_1  updrs_2  updrs_3  updrs_4   \n",
      "0         55_0          55            0     10.0      6.0     15.0      NaN  \\\n",
      "1         55_3          55            3     10.0      7.0     25.0      NaN   \n",
      "2         55_6          55            6      8.0     10.0     34.0      NaN   \n",
      "3         55_9          55            9      8.0      9.0     30.0      0.0   \n",
      "4        55_12          55           12     10.0     10.0     41.0      0.0   \n",
      "...        ...         ...          ...      ...      ...      ...      ...   \n",
      "4833   65382_0       65382            0      NaN      NaN      0.0      NaN   \n",
      "4834   65405_0       65405            0      5.0     16.0     31.0      0.0   \n",
      "4835   65405_5       65405            5      NaN      NaN     57.0      NaN   \n",
      "4836   65530_0       65530            0     10.0      6.0     24.0      0.0   \n",
      "4837  65530_36       65530           36      8.0      4.0     15.0      4.0   \n",
      "\n",
      "     upd23b_clinical_state_on_medication  \n",
      "0                                    NaN  \n",
      "1                                    NaN  \n",
      "2                                    NaN  \n",
      "3                                     On  \n",
      "4                                     On  \n",
      "...                                  ...  \n",
      "4833                                 NaN  \n",
      "4834                                 NaN  \n",
      "4835                                 NaN  \n",
      "4836                                 NaN  \n",
      "4837                                  On  \n",
      "\n",
      "[4838 rows x 8 columns]\n"
     ]
    }
   ],
   "source": [
    "import pandas as pd\n",
    "import numpy as np\n",
    "\n",
    "clin_df = pd.read_csv('data/train_clinical_data.csv')\n",
    "sup_clin_df = pd.read_csv('data/supplemental_clinical_data.csv')\n",
    "\n",
    "# concatenate clin_df and sup_clin_df vertically\n",
    "combined_df = pd.concat([clin_df, sup_clin_df], ignore_index=True)\n",
    "\n",
    "all_clin_df = combined_df.rename(columns={'upd23b_clinical_state_on_medication': 'on_meds'})\n",
    "\n",
    "all_clin_df['on_meds'] = all_clin_df['on_meds'].fillna(0)\n",
    "all_clin_df['on_meds'] = all_clin_df['on_meds'].replace({'Off': -1, 'On': 1})\n"
   ]
  },
  {
   "cell_type": "code",
   "execution_count": 16,
   "metadata": {},
   "outputs": [],
   "source": [
    "all_clin_df.to_csv('data/all_clinical_data.csv', index=False)"
   ]
  }
 ],
 "metadata": {
  "kernelspec": {
   "display_name": "kaggle-amp",
   "language": "python",
   "name": "python3"
  },
  "language_info": {
   "codemirror_mode": {
    "name": "ipython",
    "version": 3
   },
   "file_extension": ".py",
   "mimetype": "text/x-python",
   "name": "python",
   "nbconvert_exporter": "python",
   "pygments_lexer": "ipython3",
   "version": "3.9.16"
  },
  "orig_nbformat": 4
 },
 "nbformat": 4,
 "nbformat_minor": 2
}
