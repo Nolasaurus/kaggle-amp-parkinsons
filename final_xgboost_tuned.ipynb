{
 "cells": [
  {
   "cell_type": "code",
   "execution_count": 2,
   "metadata": {},
   "outputs": [],
   "source": [
    "import pandas as pd\n",
    "\n",
    "prot_df = pd.read_csv('data/train_proteins.csv')\n",
    "clin_df = pd.read_csv('data/train_clinical_data.csv')\n",
    "clin_df = clin_df.rename(columns={'upd23b_clinical_state_on_medication': 'on_meds'})\n",
    "\n",
    "clin_df['on_meds'] = clin_df['on_meds'].fillna(0)\n",
    "clin_df['on_meds'] = clin_df['on_meds'].replace({'Off': 0, 'On': 1})\n"
   ]
  },
  {
   "cell_type": "code",
   "execution_count": 3,
   "metadata": {},
   "outputs": [],
   "source": [
    "pivoted = prot_df.pivot(index=\"visit_id\", columns=\"UniProt\", values=\"NPX\")\n",
    "\n",
    "import numpy as np\n",
    "\n",
    "# Normalize each column separately\n",
    "for col in pivoted.columns:\n",
    "    col_data = pivoted[col].dropna()\n",
    "    mean = col_data.mean()\n",
    "    std = col_data.std(ddof=1)\n",
    "    pivoted[col] = (pivoted[col] - mean) / std\n",
    "    \n",
    "# Replace original NaN values in pivoted with 0 (mean value)\n",
    "norm_prot_df = pivoted.fillna(0)\n"
   ]
  },
  {
   "cell_type": "code",
   "execution_count": 4,
   "metadata": {},
   "outputs": [],
   "source": [
    "# Calculate mean and standard deviation of updrs_1 through updrs_4\n",
    "updrs_mean = clin_df[['updrs_1', 'updrs_2', 'updrs_3', 'updrs_4']].mean()\n",
    "updrs_std = clin_df[['updrs_1', 'updrs_2', 'updrs_3', 'updrs_4']].std()\n",
    "\n",
    "norm_clin_df = pd.DataFrame()\n",
    "# Normalize updrs_1 through updrs_4 and round to 3 sig figs\n",
    "norm_clin_df[['updrs_1', 'updrs_2', 'updrs_3', 'updrs_4']] = ((clin_df[['updrs_1', 'updrs_2', 'updrs_3', 'updrs_4']] - updrs_mean) / updrs_std).round(3)\n",
    "norm_prot_df = pivoted.fillna(0)"
   ]
  },
  {
   "cell_type": "code",
   "execution_count": 5,
   "metadata": {},
   "outputs": [],
   "source": [
    "# Merge prot_df and clin_df on visit_id\n",
    "merged_df = pd.merge(clin_df, norm_prot_df, on='visit_id')\n",
    "\n",
    "# Drop any rows with NaN values\n",
    "merged_df_no_nan = merged_df.dropna()\n",
    "\n",
    "# Select only numeric columns\n",
    "merged_df_no_nan_numeric = merged_df_no_nan.select_dtypes(include=np.number)\n"
   ]
  },
  {
   "cell_type": "code",
   "execution_count": 6,
   "metadata": {},
   "outputs": [],
   "source": [
    "\n",
    "for patient in merged_df.patient_id.unique():\n",
    "    # Select the patient dataset and make a copy\n",
    "    patient_data = merged_df[merged_df.patient_id == patient].copy()\n",
    "\n",
    "    # Fill the NaN values with forward fill, backward fill, and zero\n",
    "    patient_data.fillna(method='ffill', inplace=True)\n",
    "    patient_data.fillna(method='bfill', inplace=True)\n",
    "    patient_data.fillna(0, inplace=True)\n",
    "\n",
    "    merged_df[merged_df['patient_id']==patient] = patient_data"
   ]
  },
  {
   "cell_type": "code",
   "execution_count": 7,
   "metadata": {},
   "outputs": [
    {
     "name": "stdout",
     "output_type": "stream",
     "text": [
      "MSE for updrs_1: 23.159666523779503\n",
      "MSE for updrs_2: 30.929440594418807\n",
      "MSE for updrs_3: 199.72471481095803\n",
      "MSE for updrs_4: 5.923767159532673\n"
     ]
    }
   ],
   "source": [
    "from sklearn.model_selection import train_test_split\n",
    "import xgboost as xgb\n",
    "from sklearn.metrics import mean_squared_error\n",
    "\n",
    "feature_columns = merged_df.columns[8:]\n",
    "target_columns = ['updrs_1', 'updrs_2', 'updrs_3', 'updrs_4']\n",
    "\n",
    "X = merged_df[feature_columns]\n",
    "y = merged_df[target_columns]\n",
    "# Split the data into training and test sets\n",
    "X_train, X_test, y_train, y_test = train_test_split(X, y, test_size=0.2, random_state=42)\n",
    "\n",
    "# Define the best hyperparameters for each target variable\n",
    "best_params = {\n",
    "    'updrs_1': {'seed': 33, 'reg_alpha': 5, 'objective': 'reg:squarederror', 'n_estimators': 500, 'max_depth': 6, 'learning_rate': 0.075},\n",
    "    'updrs_2': {'seed': 33, 'reg_alpha': 10, 'objective': 'reg:squarederror', 'n_estimators': 1000, 'max_depth': 4, 'learning_rate': 0.075},\n",
    "    'updrs_3': {'seed': 33, 'reg_alpha': 10, 'objective': 'reg:squarederror', 'n_estimators': 1000, 'max_depth': 4, 'learning_rate': 0.075},\n",
    "    'updrs_4': {'seed': 33, 'reg_alpha': 10, 'objective': 'reg:squarederror', 'n_estimators': 750, 'max_depth': 3, 'learning_rate': 0.075}\n",
    "}\n",
    "\n",
    "# Train a model for each target variable using the best hyperparameters\n",
    "models = {}\n",
    "for target in target_columns:\n",
    "    model = xgb.XGBRegressor(**best_params[target])\n",
    "    model.fit(X_train, y_train[target])\n",
    "    models[target] = model\n",
    "\n",
    "# Evaluate the performance of each model on the test set\n",
    "for target in target_columns:\n",
    "    y_pred = models[target].predict(X_test)\n",
    "    mse = mean_squared_error(y_test[target], y_pred)\n",
    "    print(f\"MSE for {target}: {mse}\")\n"
   ]
  },
  {
   "cell_type": "code",
   "execution_count": null,
   "metadata": {},
   "outputs": [
    {
     "name": "stdout",
     "output_type": "stream",
     "text": [
      "MSE for updrs_1: 23.159666523779503\n",
      "MSE for updrs_2: 30.929440594418807\n",
      "MSE for updrs_3: 199.72471481095803\n",
      "MSE for updrs_4: 5.923767159532673\n"
     ]
    }
   ],
   "source": [
    "from sklearn.model_selection import train_test_split\n",
    "import xgboost as xgb\n",
    "from sklearn.metrics import mean_squared_error\n",
    "\n",
    "feature_columns = merged_df.columns[8:]\n",
    "target_columns = ['updrs_1', 'updrs_2', 'updrs_3', 'updrs_4']\n",
    "\n",
    "X = merged_df[feature_columns]\n",
    "y = merged_df[target_columns]\n",
    "# Split the data into training and test sets\n",
    "X_train, X_test, y_train, y_test = train_test_split(X, y, test_size=0.2, random_state=42)\n",
    "\n",
    "# Define the best hyperparameters for each target variable\n",
    "best_params = {\n",
    "    'updrs_1': {'seed': 33, 'reg_alpha': 5, 'objective': 'reg:squarederror', 'n_estimators': 500, 'max_depth': 6, 'learning_rate': 0.075},\n",
    "    'updrs_2': {'seed': 33, 'reg_alpha': 10, 'objective': 'reg:squarederror', 'n_estimators': 1000, 'max_depth': 4, 'learning_rate': 0.075},\n",
    "    'updrs_3': {'seed': 33, 'reg_alpha': 10, 'objective': 'reg:squarederror', 'n_estimators': 1000, 'max_depth': 4, 'learning_rate': 0.075},\n",
    "    'updrs_4': {'seed': 33, 'reg_alpha': 10, 'objective': 'reg:squarederror', 'n_estimators': 750, 'max_depth': 3, 'learning_rate': 0.075}\n",
    "}\n",
    "\n",
    "# Train a model for each target variable using the best hyperparameters\n",
    "models = {}\n",
    "for target in target_columns:\n",
    "    model = xgb.XGBRegressor(**best_params[target])\n",
    "    model.fit(X_train, y_train[target])\n",
    "    models[target] = model\n",
    "\n",
    "# Evaluate the performance of each model on the test set\n",
    "for target in target_columns:\n",
    "    y_pred = models[target].predict(X_test)\n",
    "    mse = mean_squared_error(y_test[target], y_pred)\n",
    "    print(f\"MSE for {target}: {mse}\")\n"
   ]
  },
  {
   "cell_type": "code",
   "execution_count": null,
   "metadata": {},
   "outputs": [],
   "source": [
    "import amp_pd_peptide\n",
    "env = amp_pd_peptide.make_env()   # initialize the environment\n",
    "iter_test = env.iter_test()    # an iterator which loops over the test files\n",
    "for (test, test_peptides, test_proteins, sample_submission) in iter_test:\n",
    "    sample_prediction_df['rating'] = np.arange(len(sample_prediction))  # make your predictions here\n",
    "    env.predict(sample_prediction_df)   # register your predictions"
   ]
  }
 ],
 "metadata": {
  "kernelspec": {
   "display_name": "kaggle-amp",
   "language": "python",
   "name": "python3"
  },
  "language_info": {
   "codemirror_mode": {
    "name": "ipython",
    "version": 3
   },
   "file_extension": ".py",
   "mimetype": "text/x-python",
   "name": "python",
   "nbconvert_exporter": "python",
   "pygments_lexer": "ipython3",
   "version": "3.9.16"
  },
  "orig_nbformat": 4
 },
 "nbformat": 4,
 "nbformat_minor": 2
}
